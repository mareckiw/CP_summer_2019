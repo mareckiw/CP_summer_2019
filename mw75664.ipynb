{
  "nbformat": 4,
  "nbformat_minor": 0,
  "metadata": {
    "colab": {
      "name": "mw75664.ipynb",
      "provenance": [],
      "authorship_tag": "ABX9TyNvL2mpd9Z7WOAs9VWPgWRq",
      "include_colab_link": true
    },
    "kernelspec": {
      "name": "python3",
      "display_name": "Python 3"
    },
    "language_info": {
      "name": "python"
    }
  },
  "cells": [
    {
      "cell_type": "markdown",
      "metadata": {
        "id": "view-in-github",
        "colab_type": "text"
      },
      "source": [
        "<a href=\"https://colab.research.google.com/github/mareckiw/CP_summer_2019/blob/master/mw75664.ipynb\" target=\"_parent\"><img src=\"https://colab.research.google.com/assets/colab-badge.svg\" alt=\"Open In Colab\"/></a>"
      ]
    },
    {
      "cell_type": "code",
      "metadata": {
        "id": "rFEx-ZJakuOU"
      },
      "source": [
        "%load_ext rpy2.ipython"
      ],
      "execution_count": 1,
      "outputs": []
    },
    {
      "cell_type": "code",
      "metadata": {
        "id": "YDjsV8VDkwwM"
      },
      "source": [
        "%%R\n",
        "# Clear environment\n",
        "rm(list = ls())"
      ],
      "execution_count": 2,
      "outputs": []
    },
    {
      "cell_type": "code",
      "metadata": {
        "id": "b0q5wKpilMiS"
      },
      "source": [
        "%%R\n",
        "# download and load libraries\n",
        "if(!require(caret)) install.packages(\"caret\", repos = \"http://cran.us.r-project.org\")\n",
        "if(!require(olsrr)) install.packages(\"olsrr\", repos = \"http://cran.us.r-project.org\")\n",
        "if(!require(mgcv)) install.packages(\"mgcv\", repos = \"http://cran.us.r-project.org\")\n",
        "if(!require(nnet)) install.packages(\"nnet\", repos = \"http://cran.us.r-project.org\")\n",
        "if(!require(rpart)) install.packages(\"rpart\", repos = \"http://cran.us.r-project.org\")\n",
        "if(!require(tidyverse)) install.packages(\"tidyverse\", repos = \"http://cran.us.r-project.org\")\n",
        "if(!require(rpart.plot)) install.packages(\"rpart.plot\", repos = \"http://cran.us.r-project.org\")\n",
        "if(!require(mltools)) install.packages(\"mltools\", repos = \"http://cran.us.r-project.org\")\n",
        "if(!require(PRROC)) install.packages(\"PRROC\", repos = \"http://cran.us.r-project.org\")\n",
        "if(!require(randomForest)) install.packages(\"randomForest\", repos = \"http://cran.us.r-project.org\")\n",
        "if(!require(ROCR)) install.packages(\"ROCR\", repos = \"http://cran.us.r-project.org\")\n"
      ],
      "execution_count": null,
      "outputs": []
    },
    {
      "cell_type": "code",
      "metadata": {
        "id": "Rb2aBAHlsbMU"
      },
      "source": [
        "%%R\n",
        "library(tidyverse)\n",
        "library(caret)\n",
        "#library(ROSE)\n",
        "library(rpart)\n",
        "library(rpart.plot)\n",
        "library(ROCR)\n",
        "library(mltools)\n",
        "library(randomForest)\n",
        "library(mgcv)"
      ],
      "execution_count": 60,
      "outputs": []
    },
    {
      "cell_type": "code",
      "metadata": {
        "colab": {
          "base_uri": "https://localhost:8080/"
        },
        "id": "V5IYKjVkmRO-",
        "outputId": "31a10834-2278-4c74-9857-15e7185ab10a"
      },
      "source": [
        "%%R\n",
        "# Task1(12p)\n",
        "# In the task, use the data from 'http://archive.ics.uci.edu/ml/machine-learning-databases/statlog/german/german.data-numeric'\n",
        "# You can load the data using:\n",
        "#read.fwf('http://archive.ics.uci.edu/ml/machine-learning-databases/statlog/german/german.data-numeric', widths = rep(4, 25), header = FALSE)\n",
        "data = read.fwf('http://archive.ics.uci.edu/ml/machine-learning-databases/statlog/german/german.data-numeric', widths = rep(4, 25), header = FALSE)\n",
        "print(head(data))\n",
        "glimpse(data)"
      ],
      "execution_count": 162,
      "outputs": [
        {
          "output_type": "stream",
          "text": [
            "  V1 V2 V3 V4 V5 V6 V7 V8 V9 V10 V11 V12 V13 V14 V15 V16 V17 V18 V19 V20 V21\n",
            "1  1  6  4 12  5  5  3  4  1  67   3   2   1   2   1   0   0   1   0   0   1\n",
            "2  2 48  2 60  1  3  2  2  1  22   3   1   1   1   1   0   0   1   0   0   1\n",
            "3  4 12  4 21  1  4  3  3  1  49   3   1   2   1   1   0   0   1   0   0   1\n",
            "4  1 42  2 79  1  4  3  4  2  45   3   1   2   1   1   0   0   0   0   0   0\n",
            "5  1 24  3 49  1  3  3  4  4  53   3   2   2   1   1   1   0   1   0   0   0\n",
            "6  4 36  2 91  5  3  3  4  4  35   3   1   2   2   1   0   0   1   0   0   0\n",
            "  V22 V23 V24 V25\n",
            "1   0   0   1   1\n",
            "2   0   0   1   2\n",
            "3   0   1   0   1\n",
            "4   0   0   1   1\n",
            "5   0   0   1   2\n",
            "6   0   1   0   1\n",
            "Rows: 1,000\n",
            "Columns: 25\n",
            "$ V1  <int> 1, 2, 4, 1, 1, 4, 4, 2, 4, 2, 2, 1, 2, 1, 1, 1, 4, 1, 2, 4, 4, 1, …\n",
            "$ V2  <int> 6, 48, 12, 42, 24, 36, 24, 36, 12, 30, 12, 48, 12, 24, 15, 24, 24,…\n",
            "$ V3  <int> 4, 2, 4, 2, 3, 2, 2, 2, 2, 4, 2, 2, 2, 4, 2, 2, 4, 0, 2, 2, 4, 2, …\n",
            "$ V4  <int> 12, 60, 21, 79, 49, 91, 28, 69, 31, 52, 13, 43, 16, 12, 14, 13, 24…\n",
            "$ V5  <int> 5, 1, 1, 1, 1, 5, 3, 1, 4, 1, 1, 1, 1, 1, 1, 2, 5, 5, 1, 3, 1, 3, …\n",
            "$ V6  <int> 5, 3, 4, 4, 3, 3, 5, 3, 4, 1, 2, 2, 3, 5, 3, 3, 5, 2, 5, 5, 3, 3, …\n",
            "$ V7  <int> 3, 2, 3, 3, 3, 3, 3, 3, 1, 4, 2, 2, 2, 3, 2, 2, 3, 3, 2, 3, 3, 3, …\n",
            "$ V8  <int> 4, 2, 3, 4, 4, 4, 4, 2, 4, 2, 1, 4, 1, 4, 4, 2, 4, 3, 2, 2, 4, 3, …\n",
            "$ V9  <int> 1, 1, 1, 2, 4, 4, 2, 3, 1, 3, 3, 2, 3, 3, 3, 3, 2, 3, 4, 3, 3, 1, …\n",
            "$ V10 <int> 67, 22, 49, 45, 53, 35, 53, 35, 61, 28, 25, 24, 22, 60, 28, 32, 53…\n",
            "$ V11 <int> 3, 3, 3, 3, 3, 3, 3, 3, 3, 3, 3, 3, 3, 3, 3, 3, 3, 1, 3, 3, 3, 3, …\n",
            "$ V12 <int> 2, 1, 1, 1, 2, 1, 1, 1, 1, 2, 1, 1, 1, 2, 1, 1, 2, 3, 1, 1, 3, 1, …\n",
            "$ V13 <int> 1, 1, 2, 2, 2, 2, 1, 1, 1, 1, 1, 1, 1, 1, 1, 1, 1, 1, 1, 2, 1, 2, …\n",
            "$ V14 <int> 2, 1, 1, 1, 1, 2, 1, 2, 1, 1, 1, 1, 2, 1, 1, 1, 1, 1, 2, 2, 2, 1, …\n",
            "$ V15 <int> 1, 1, 1, 1, 1, 1, 1, 1, 1, 1, 1, 1, 1, 1, 1, 1, 1, 1, 1, 1, 1, 1, …\n",
            "$ V16 <int> 0, 0, 0, 0, 1, 0, 0, 0, 0, 1, 1, 0, 0, 1, 1, 0, 0, 0, 0, 0, 1, 0, …\n",
            "$ V17 <int> 0, 0, 0, 0, 0, 0, 0, 1, 0, 0, 0, 0, 0, 0, 0, 0, 0, 0, 1, 0, 0, 0, …\n",
            "$ V18 <int> 1, 1, 1, 0, 1, 1, 1, 1, 1, 1, 1, 1, 1, 1, 1, 1, 1, 1, 1, 1, 1, 1, …\n",
            "$ V19 <int> 0, 0, 0, 0, 0, 0, 0, 0, 0, 0, 0, 0, 0, 0, 0, 0, 0, 0, 0, 0, 0, 0, …\n",
            "$ V20 <int> 0, 0, 0, 0, 0, 0, 0, 1, 0, 0, 1, 1, 0, 0, 1, 0, 0, 0, 0, 0, 0, 1, …\n",
            "$ V21 <int> 1, 1, 1, 0, 0, 0, 1, 0, 1, 1, 0, 0, 1, 1, 0, 1, 1, 1, 0, 1, 1, 0, …\n",
            "$ V22 <int> 0, 0, 0, 0, 0, 0, 0, 0, 0, 0, 0, 0, 0, 0, 0, 0, 0, 0, 0, 0, 0, 0, …\n",
            "$ V23 <int> 0, 0, 1, 0, 0, 1, 0, 0, 1, 0, 0, 0, 0, 1, 0, 1, 0, 0, 0, 0, 0, 0, …\n",
            "$ V24 <int> 1, 1, 0, 1, 1, 0, 1, 0, 0, 0, 1, 1, 1, 0, 1, 0, 1, 1, 0, 1, 1, 1, …\n",
            "$ V25 <int> 1, 2, 1, 1, 2, 1, 1, 1, 1, 2, 2, 2, 1, 2, 1, 2, 1, 1, 2, 1, 1, 1, …\n"
          ],
          "name": "stdout"
        }
      ]
    },
    {
      "cell_type": "code",
      "metadata": {
        "colab": {
          "base_uri": "https://localhost:8080/"
        },
        "id": "IB-hM0lbmjn3",
        "outputId": "5484fddc-70a4-49ce-f672-b751102bd717"
      },
      "source": [
        "%%R\n",
        "# (1p) Rename 25th column to 'target'.It contains information about bank's clients default - 2 => client with a default, 1=> client with no default. \n",
        "print(names(data)[25])\n",
        "names(data)[25] <- \"target\" # raname column to target\n",
        "print(names(data)[25])\n"
      ],
      "execution_count": 154,
      "outputs": [
        {
          "output_type": "stream",
          "text": [
            "[1] \"target\"\n",
            "[1] \"target\"\n"
          ],
          "name": "stdout"
        }
      ]
    },
    {
      "cell_type": "code",
      "metadata": {
        "colab": {
          "base_uri": "https://localhost:8080/"
        },
        "id": "L3psFX5B9_Lk",
        "outputId": "1c04959f-4b05-4c1e-b93a-b8ecbbd35170"
      },
      "source": [
        "%%R\n",
        "#Recode 'target' \n",
        "print(unique(data[c(\"target\")]))\n",
        "data$target <- ifelse(data$target==\"2\", 1, 0) #if 2 put 1, else 0\n",
        "print(unique(data[c(\"target\")]))\n",
        "glimpse(train)"
      ],
      "execution_count": 160,
      "outputs": [
        {
          "output_type": "stream",
          "text": [
            "  target\n",
            "1      0\n",
            "2      1\n",
            "  target\n",
            "1      0\n",
            "Rows: 900\n",
            "Columns: 25\n",
            "$ V1     <int> 4, 4, 4, 1, 4, 4, 1, 4, 1, 4, 2, 2, 4, 1, 1, 1, 4, 2, 2, 2, 3, …\n",
            "$ V2     <int> 36, 6, 12, 14, 24, 12, 6, 60, 10, 12, 15, 12, 18, 48, 24, 6, 36…\n",
            "$ V3     <int> 2, 2, 2, 2, 2, 4, 4, 3, 4, 2, 4, 2, 4, 1, 2, 4, 4, 2, 3, 3, 3, …\n",
            "$ V4     <int> 24, 13, 35, 90, 40, 13, 3, 157, 22, 31, 23, 75, 61, 77, 16, 19,…\n",
            "$ V5     <int> 5, 3, 5, 1, 1, 5, 3, 1, 1, 4, 3, 5, 1, 1, 1, 1, 5, 2, 2, 2, 1, …\n",
            "$ V6     <int> 3, 3, 2, 5, 4, 5, 5, 4, 2, 4, 3, 1, 5, 4, 5, 1, 3, 3, 5, 5, 5, …\n",
            "$ V7     <int> 2, 1, 3, 1, 2, 3, 3, 3, 3, 1, 3, 2, 3, 2, 2, 3, 3, 2, 3, 1, 3, …\n",
            "$ V8     <int> 4, 4, 3, 4, 4, 4, 4, 4, 3, 4, 4, 2, 4, 4, 4, 4, 2, 4, 4, 2, 4, …\n",
            "$ V9     <int> 3, 1, 2, 2, 2, 4, 3, 3, 1, 1, 3, 1, 3, 3, 3, 4, 3, 3, 3, 3, 1, …\n",
            "$ V10    <int> 25, 62, 45, 45, 25, 57, 52, 21, 48, 61, 27, 24, 33, 37, 55, 36,…\n",
            "$ V11    <int> 3, 3, 3, 3, 3, 3, 3, 3, 3, 3, 1, 3, 3, 3, 3, 3, 3, 3, 3, 1, 3, …\n",
            "$ V12    <int> 1, 1, 1, 1, 1, 1, 2, 2, 2, 1, 1, 1, 2, 1, 1, 3, 1, 2, 4, 2, 1, …\n",
            "$ V13    <int> 1, 1, 2, 1, 1, 1, 1, 1, 2, 1, 1, 1, 1, 1, 1, 1, 1, 1, 1, 2, 1, …\n",
            "$ V14    <int> 1, 1, 2, 2, 2, 1, 1, 2, 1, 1, 1, 1, 2, 1, 1, 2, 2, 2, 2, 1, 2, …\n",
            "$ V15    <int> 1, 1, 1, 2, 1, 1, 1, 1, 2, 1, 1, 1, 1, 1, 1, 1, 1, 1, 1, 1, 1, …\n",
            "$ V16    <int> 0, 0, 1, 1, 0, 0, 0, 0, 1, 0, 0, 1, 0, 0, 0, 0, 0, 1, 1, 0, 0, …\n",
            "$ V17    <int> 0, 0, 0, 0, 0, 0, 0, 0, 0, 0, 0, 0, 0, 0, 0, 0, 1, 0, 0, 0, 0, …\n",
            "$ V18    <int> 1, 1, 1, 1, 1, 1, 1, 1, 1, 1, 1, 1, 1, 0, 1, 1, 1, 1, 1, 1, 1, …\n",
            "$ V19    <int> 0, 0, 0, 0, 0, 0, 0, 0, 0, 0, 0, 0, 0, 0, 0, 0, 0, 0, 0, 0, 0, …\n",
            "$ V20    <int> 0, 0, 0, 0, 1, 1, 0, 0, 1, 0, 0, 1, 0, 1, 0, 0, 0, 1, 0, 0, 0, …\n",
            "$ V21    <int> 1, 1, 1, 1, 0, 0, 1, 1, 0, 1, 1, 0, 1, 0, 1, 0, 1, 0, 1, 1, 1, …\n",
            "$ V22    <int> 0, 0, 0, 0, 0, 0, 0, 0, 0, 0, 0, 1, 0, 0, 0, 0, 0, 0, 0, 0, 0, …\n",
            "$ V23    <int> 0, 0, 0, 0, 0, 1, 0, 0, 1, 1, 0, 0, 0, 0, 0, 0, 0, 0, 0, 0, 0, …\n",
            "$ V24    <int> 1, 1, 0, 0, 1, 0, 1, 1, 0, 0, 1, 0, 1, 1, 1, 0, 0, 1, 0, 1, 0, …\n",
            "$ target <dbl> 0, 0, 0, 1, 0, 0, 0, 0, 0, 0, 0, 0, 0, 1, 0, 0, 0, 1, 1, 0, 1, …\n"
          ],
          "name": "stdout"
        }
      ]
    },
    {
      "cell_type": "code",
      "metadata": {
        "colab": {
          "base_uri": "https://localhost:8080/",
          "height": 1000
        },
        "id": "2bhicYJB72MA",
        "outputId": "bd9caa79-6daf-40bd-a095-1f082dd5fe49"
      },
      "source": [
        "%%R\n",
        "# (3p) Check frequencies of 'target' values. How can we cope with unbalanced data? Name at least 3 solutions. Randomly undersample the data to have 50/50 proportions of 'target' values.\n",
        "hist(data$target)\n",
        "plot(density(data$target))\n",
        "# (1p) Divide balanced data into training (90%) and validation (10%) with seed  equal to 12\n",
        "set.seed(12)\n",
        "rand = sample(1:nrow(data),0.9*nrow(data)) #random 80% of indexes values\n",
        "train = data[rand,]\n",
        "test = data[-rand,]"
      ],
      "execution_count": 159,
      "outputs": [
        {
          "output_type": "stream",
          "text": [
            "Rows: 900\n",
            "Columns: 25\n",
            "$ V1     <int> 4, 4, 4, 1, 4, 4, 1, 4, 1, 4, 2, 2, 4, 1, 1, 1, 4, 2, 2, 2, 3, …\n",
            "$ V2     <int> 36, 6, 12, 14, 24, 12, 6, 60, 10, 12, 15, 12, 18, 48, 24, 6, 36…\n",
            "$ V3     <int> 2, 2, 2, 2, 2, 4, 4, 3, 4, 2, 4, 2, 4, 1, 2, 4, 4, 2, 3, 3, 3, …\n",
            "$ V4     <int> 24, 13, 35, 90, 40, 13, 3, 157, 22, 31, 23, 75, 61, 77, 16, 19,…\n",
            "$ V5     <int> 5, 3, 5, 1, 1, 5, 3, 1, 1, 4, 3, 5, 1, 1, 1, 1, 5, 2, 2, 2, 1, …\n",
            "$ V6     <int> 3, 3, 2, 5, 4, 5, 5, 4, 2, 4, 3, 1, 5, 4, 5, 1, 3, 3, 5, 5, 5, …\n",
            "$ V7     <int> 2, 1, 3, 1, 2, 3, 3, 3, 3, 1, 3, 2, 3, 2, 2, 3, 3, 2, 3, 1, 3, …\n",
            "$ V8     <int> 4, 4, 3, 4, 4, 4, 4, 4, 3, 4, 4, 2, 4, 4, 4, 4, 2, 4, 4, 2, 4, …\n",
            "$ V9     <int> 3, 1, 2, 2, 2, 4, 3, 3, 1, 1, 3, 1, 3, 3, 3, 4, 3, 3, 3, 3, 1, …\n",
            "$ V10    <int> 25, 62, 45, 45, 25, 57, 52, 21, 48, 61, 27, 24, 33, 37, 55, 36,…\n",
            "$ V11    <int> 3, 3, 3, 3, 3, 3, 3, 3, 3, 3, 1, 3, 3, 3, 3, 3, 3, 3, 3, 1, 3, …\n",
            "$ V12    <int> 1, 1, 1, 1, 1, 1, 2, 2, 2, 1, 1, 1, 2, 1, 1, 3, 1, 2, 4, 2, 1, …\n",
            "$ V13    <int> 1, 1, 2, 1, 1, 1, 1, 1, 2, 1, 1, 1, 1, 1, 1, 1, 1, 1, 1, 2, 1, …\n",
            "$ V14    <int> 1, 1, 2, 2, 2, 1, 1, 2, 1, 1, 1, 1, 2, 1, 1, 2, 2, 2, 2, 1, 2, …\n",
            "$ V15    <int> 1, 1, 1, 2, 1, 1, 1, 1, 2, 1, 1, 1, 1, 1, 1, 1, 1, 1, 1, 1, 1, …\n",
            "$ V16    <int> 0, 0, 1, 1, 0, 0, 0, 0, 1, 0, 0, 1, 0, 0, 0, 0, 0, 1, 1, 0, 0, …\n",
            "$ V17    <int> 0, 0, 0, 0, 0, 0, 0, 0, 0, 0, 0, 0, 0, 0, 0, 0, 1, 0, 0, 0, 0, …\n",
            "$ V18    <int> 1, 1, 1, 1, 1, 1, 1, 1, 1, 1, 1, 1, 1, 0, 1, 1, 1, 1, 1, 1, 1, …\n",
            "$ V19    <int> 0, 0, 0, 0, 0, 0, 0, 0, 0, 0, 0, 0, 0, 0, 0, 0, 0, 0, 0, 0, 0, …\n",
            "$ V20    <int> 0, 0, 0, 0, 1, 1, 0, 0, 1, 0, 0, 1, 0, 1, 0, 0, 0, 1, 0, 0, 0, …\n",
            "$ V21    <int> 1, 1, 1, 1, 0, 0, 1, 1, 0, 1, 1, 0, 1, 0, 1, 0, 1, 0, 1, 1, 1, …\n",
            "$ V22    <int> 0, 0, 0, 0, 0, 0, 0, 0, 0, 0, 0, 1, 0, 0, 0, 0, 0, 0, 0, 0, 0, …\n",
            "$ V23    <int> 0, 0, 0, 0, 0, 1, 0, 0, 1, 1, 0, 0, 0, 0, 0, 0, 0, 0, 0, 0, 0, …\n",
            "$ V24    <int> 1, 1, 0, 0, 1, 0, 1, 1, 0, 0, 1, 0, 1, 1, 1, 0, 0, 1, 0, 1, 0, …\n",
            "$ target <dbl> 0, 0, 0, 1, 0, 0, 0, 0, 0, 0, 0, 0, 0, 1, 0, 0, 0, 1, 1, 0, 1, …\n"
          ],
          "name": "stdout"
        },
        {
          "output_type": "display_data",
          "data": {
            "image/png": "[encoded data removed]"
          },
          "metadata": {
            "tags": []
          }
        },
        {
          "output_type": "display_data",
          "data": {
            "image/png": "[encoded data removed]"
          },
          "metadata": {
            "tags": []
          }
        }
      ]
    },
    {
      "cell_type": "code",
      "metadata": {
        "colab": {
          "base_uri": "https://localhost:8080/"
        },
        "id": "W9KSqUm77_sc",
        "outputId": "1d7e454b-55ef-4e29-c0d3-7d04c66994e3"
      },
      "source": [
        "%%R\n",
        "# (1p) Build logistic regression model with 'glm' function. We want to classify 'target' using all other features in a dataset.\n",
        "model = glm(target ~ ., data = train, family = binomial())\n",
        "model\n",
        "# (2p) Conduct feature selection using 'step' function. Use HQC (Hannan-Quinn Information Criterion) as model selection criterion. How many variables were removed from model compared to initial logistic regression?\n",
        "HQC.logit = step(model, k = 2*log(log(nrow(train))), trace = 0)\n",
        "HQC.logit\n",
        "summary(HQC.logit)\n",
        "#there are only 1 + V2 + V3 + V5 + V11 + V17 + V18 + V19 + V21 left, so 9 is left, so 25-9=16 was removed"
      ],
      "execution_count": 161,
      "outputs": [
        {
          "output_type": "stream",
          "text": [
            "\n",
            "Call:\n",
            "glm(formula = target ~ V1 + V2 + V3 + V5 + V6 + V9 + V11 + V15 + \n",
            "    V16 + V17 + V18 + V19 + V20, family = binomial(), data = train)\n",
            "\n",
            "Deviance Residuals: \n",
            "    Min       1Q   Median       3Q      Max  \n",
            "-2.0673  -0.7313  -0.4360   0.8097   2.6113  \n",
            "\n",
            "Coefficients:\n",
            "             Estimate Std. Error z value Pr(>|z|)    \n",
            "(Intercept)  1.990214   0.904198   2.201 0.027730 *  \n",
            "V1          -0.557411   0.072854  -7.651 1.99e-14 ***\n",
            "V2           0.039024   0.007247   5.385 7.24e-08 ***\n",
            "V3          -0.375947   0.082592  -4.552 5.32e-06 ***\n",
            "V5          -0.222246   0.061028  -3.642 0.000271 ***\n",
            "V6          -0.157123   0.070038  -2.243 0.024870 *  \n",
            "V9           0.180215   0.088028   2.047 0.040633 *  \n",
            "V11         -0.273757   0.113955  -2.402 0.016291 *  \n",
            "V15         -1.297133   0.597072  -2.172 0.029819 *  \n",
            "V16          0.619768   0.196655   3.152 0.001624 ** \n",
            "V17         -0.718567   0.330661  -2.173 0.029771 *  \n",
            "V18          1.006435   0.414868   2.426 0.015270 *  \n",
            "V19          1.397702   0.565415   2.472 0.013436 *  \n",
            "V20          0.515361   0.214738   2.400 0.016397 *  \n",
            "---\n",
            "Signif. codes:  0 ‘***’ 0.001 ‘**’ 0.01 ‘*’ 0.05 ‘.’ 0.1 ‘ ’ 1\n",
            "\n",
            "(Dispersion parameter for binomial family taken to be 1)\n",
            "\n",
            "    Null deviance: 1112.8  on 899  degrees of freedom\n",
            "Residual deviance:  865.8  on 886  degrees of freedom\n",
            "AIC: 893.8\n",
            "\n",
            "Number of Fisher Scoring iterations: 5\n",
            "\n"
          ],
          "name": "stdout"
        }
      ]
    },
    {
      "cell_type": "code",
      "metadata": {
        "colab": {
          "base_uri": "https://localhost:8080/",
          "height": 496
        },
        "id": "0dz5jZSo-3HG",
        "outputId": "feac071e-b404-4dfa-ae9a-33a131e3b463"
      },
      "source": [
        "%%R\n",
        "# (4p) Using model after feature selection, conduct cost-based threshold optimization on test data with False Positive cost equal to 1 and False Negative Equal to 3. \n",
        "#What is the optimal cutoff threshold?\n",
        "CalculateCost = function(cut.off, cost.matrix, score, true.y){\n",
        "    prediction = ifelse(score > cut.off, 1, 0)\n",
        "    confusion.matrix = prop.table(table(factor(prediction, levels = c(0, 1)),\n",
        "                                        true.y))\n",
        "    return(sum(cost.matrix * confusion.matrix))\n",
        "}\n",
        "\n",
        "score = costs = list()\n",
        "\n",
        "#test data\n",
        "CUT_OFFS = seq(0.5, 1, by = 0.01) \n",
        "false_positive = 1\n",
        "false_negative = 3\n",
        "COST_MATRIX = matrix(c(0, false_negative, false_positive, 0), 2)\n",
        "\n",
        "score[[1]] = predict(HQC.logit, newdata = test)\n",
        "costs[[1]] = sapply(CUT_OFFS, CalculateCost, cost.matrix = COST_MATRIX,\n",
        "                    score = score[[1]], true.y = test$target)\n",
        "\n",
        "#get optimal cut off\n",
        "cost_cut_offs <- data.frame(costs[[1]], CUT_OFFS)\n",
        "names(cost_cut_offs)[1] <- \"costs\"\n",
        "\n",
        "# Cut-off that minimise the cost\n",
        "\n",
        "cost_cut_offs %>% \n",
        "    filter(costs == min(costs)) %>% \n",
        "    slice(1)\n",
        "\n",
        "#plot cut offs\n",
        "plot(data.frame(CUT_OFFS, 1.2), type = \"l\", lty = 3, log=\"y\",\n",
        "     ylim = range(c(1.2, unlist(costs))),\n",
        "     ylab = \"Cost per client\", xlab = \"Cutoff\")\n",
        "\n",
        "for (i in 1:1) {\n",
        "    lines(CUT_OFFS, costs[[i]], lty = i, lwd = 2)\n",
        "    points(CUT_OFFS[which.min(costs[[i]])], min(costs[[i]]), cex = 1.3, pch=19)\n",
        "}\n",
        "\n",
        "legend(\"topright\", c(\"Test/valid set\", \"Training\", \"Random\"),\n",
        "       lty = c(1, 2, 3), cex = .5, ncol = 3,\n",
        "       lwd = c(2, 2, 1))"
      ],
      "execution_count": 190,
      "outputs": [
        {
          "output_type": "display_data",
          "data": {
            "image/png": "[encoded data removed]"
          },
          "metadata": {
            "tags": []
          }
        }
      ]
    },
    {
      "cell_type": "code",
      "metadata": {
        "colab": {
          "base_uri": "https://localhost:8080/"
        },
        "id": "yQGhxaIQnaY7",
        "outputId": "36ed2522-2bf8-4367-81f9-966a6a3e57d2"
      },
      "source": [
        "%%R\n",
        "# Task2(24p)\n",
        "data2 = read.csv(\"https://archive.ics.uci.edu/ml/machine-learning-databases/00451/dataR2.csv\",sep=\",\",header=TRUE, stringsAsFactors = FALSE)\n",
        "#print(head(data2))\n",
        "glimpse(data2)\n"
      ],
      "execution_count": 196,
      "outputs": [
        {
          "output_type": "stream",
          "text": [
            "Rows: 116\n",
            "Columns: 10\n",
            "$ Age            <int> 48, 83, 82, 68, 86, 49, 89, 76, 73, 75, 34, 29, 25, 24,…\n",
            "$ BMI            <dbl> 23.50000, 20.69049, 23.12467, 21.36752, 21.11111, 22.85…\n",
            "$ Glucose        <int> 70, 92, 91, 77, 92, 92, 77, 118, 97, 83, 78, 82, 82, 88…\n",
            "$ Insulin        <dbl> 2.707, 3.115, 4.498, 3.226, 3.549, 3.226, 4.690, 6.470,…\n",
            "$ HOMA           <dbl> 0.4674087, 0.7068973, 1.0096511, 0.6127249, 0.8053864, …\n",
            "$ Leptin         <dbl> 8.8071, 8.8438, 17.9393, 9.8827, 6.6994, 6.8317, 6.9640…\n",
            "$ Adiponectin    <dbl> 9.702400, 5.429285, 22.432040, 7.169560, 4.819240, 13.6…\n",
            "$ Resistin       <dbl> 7.99585, 4.06405, 9.27715, 12.76600, 10.57635, 10.31760…\n",
            "$ MCP.1          <dbl> 417.114, 468.786, 554.697, 928.220, 773.920, 530.410, 1…\n",
            "$ Classification <int> 1, 1, 1, 1, 1, 1, 1, 1, 1, 1, 1, 1, 1, 1, 1, 1, 1, 1, 1…\n"
          ],
          "name": "stdout"
        }
      ]
    },
    {
      "cell_type": "code",
      "metadata": {
        "colab": {
          "base_uri": "https://localhost:8080/"
        },
        "id": "iS-7ErgyBb3K",
        "outputId": "1da2cc87-f011-4f1d-d21c-8653df36e055"
      },
      "source": [
        "%%R\n",
        "# (1p) Check if any data is missing. If so, remove data from the dataset.\n",
        "data2[data2 == \"?\"] <- NA\n",
        "print(sum(is.na(data2)))\n",
        "print(sum(apply(data2, 1, anyNA)))\n",
        "#thre is no missings! we can continue!\n",
        "# (1p) Recode the variable Classification - ill patients should be denoted as 1 and healthy as 0 - do not create a new variable, but overwrite it\n",
        "print(unique(data2[c(\"Classification\")]))\n",
        "data2$Classification <- ifelse(data2$Classification==\"2\", 1, 0) #if 2 put 1, else 0\n",
        "print(unique(data2[c(\"Classification\")]))"
      ],
      "execution_count": 197,
      "outputs": [
        {
          "output_type": "stream",
          "text": [
            "[1] 0\n",
            "[1] 0\n",
            "   Classification\n",
            "1               1\n",
            "53              2\n",
            "   Classification\n",
            "1               0\n",
            "53              1\n"
          ],
          "name": "stdout"
        }
      ]
    },
    {
      "cell_type": "code",
      "metadata": {
        "colab": {
          "base_uri": "https://localhost:8080/"
        },
        "id": "GLZ9U2z7q81c",
        "outputId": "ac4706ba-7556-48be-a1e7-cd88e496c8e4"
      },
      "source": [
        "%%R\n",
        "# (2p) By how many years on average (variable Age) people with breast cancer are older/younger than the others?\n",
        "age1 =mean(data2$Age[data2$Classification==0])\n",
        "age2 = mean(data2$Age[data2$Classification==1])\n",
        "diff = age1 - age2\n",
        "print(diff)\n",
        "#The people with breast cancer are by average 1,4 year younger than wihtout b.cancer\n",
        "\n",
        "# (1p) What is the average Insulin level (Insulin variable) for users with a BMI over 23?\n",
        "print(mean(data2$Insulin[data2$BMI>23]))\n",
        "#the avg insuline level for users with bmi over 23 is 11,25"
      ],
      "execution_count": 198,
      "outputs": [
        {
          "output_type": "stream",
          "text": [
            "[1] 1.405048\n",
            "[1] 11.25393\n"
          ],
          "name": "stdout"
        }
      ]
    },
    {
      "cell_type": "code",
      "metadata": {
        "colab": {
          "base_uri": "https://localhost:8080/"
        },
        "id": "eZ_MjAvmrY46",
        "outputId": "72d98124-9a2a-48d7-bfa6-0d7aac47251c"
      },
      "source": [
        "%%R\n",
        "# (1p) Randomly divide observations into a training (80% share) and test (20%) set with a seed of 12.\n",
        "set.seed(32)\n",
        "rand = sample(1:nrow(data2),0.8*nrow(data2))\n",
        "train_data2 = data2[rand,]\n",
        "test_data2 = data2[-rand,]\n",
        "glimpse(train_data2)\n",
        "#glimpse(test_data2)\n",
        "\n"
      ],
      "execution_count": 200,
      "outputs": [
        {
          "output_type": "stream",
          "text": [
            "Rows: 92\n",
            "Columns: 10\n",
            "$ Age            <int> 51, 46, 52, 48, 61, 45, 62, 65, 51, 76, 44, 43, 51, 41,…\n",
            "$ BMI            <dbl> 19.13265, 20.83000, 30.80125, 32.46191, 32.03896, 29.38…\n",
            "$ Glucose        <int> 93, 88, 87, 99, 85, 90, 100, 97, 105, 94, 114, 89, 103,…\n",
            "$ Insulin        <dbl> 4.364, 3.420, 30.212, 28.677, 18.077, 4.713, 4.530, 5.7…\n",
            "$ HOMA           <dbl> 1.0011016, 0.7423680, 6.4834952, 7.0029234, 3.7901443, …\n",
            "$ Leptin         <dbl> 11.0816, 12.8700, 29.2739, 46.0760, 30.7729, 23.8479, 1…\n",
            "$ Adiponectin    <dbl> 5.807620, 18.550000, 6.268540, 21.570000, 7.780255, 6.6…\n",
            "$ Resistin       <dbl> 5.57055, 13.56000, 24.24591, 10.15726, 13.68392, 15.556…\n",
            "$ MCP.1          <dbl> 90.600, 301.210, 764.667, 738.034, 444.395, 621.273, 33…\n",
            "$ Classification <dbl> 1, 1, 1, 1, 0, 1, 1, 1, 1, 0, 1, 0, 1, 1, 0, 1, 1, 1, 1…\n"
          ],
          "name": "stdout"
        }
      ]
    },
    {
      "cell_type": "code",
      "metadata": {
        "colab": {
          "base_uri": "https://localhost:8080/",
          "height": 496
        },
        "id": "eWGNG5xbruaP",
        "outputId": "2bf10217-a2b0-4a10-9035-088e93355fd9"
      },
      "source": [
        "# (2p) Prepare the decision tree from the 'rpart' package based on the data from the training set. \n",
        "#The target variable is Classification, use all others to explain it. Set the parameter CP to 0. \n",
        "#Remember that rpart infers a task by the type of target variable and we are interested in classification\n",
        "%%R\n",
        "rpart <- rpart(train_data2$Classification ~., data=train_data2,cp=0)\n",
        "rpart.plot(rpart) #confirmation"
      ],
      "execution_count": 201,
      "outputs": [
        {
          "output_type": "display_data",
          "data": {
            "image/png": "[encoded data removed]"
          },
          "metadata": {
            "tags": []
          }
        }
      ]
    },
    {
      "cell_type": "code",
      "metadata": {
        "colab": {
          "base_uri": "https://localhost:8080/",
          "height": 496
        },
        "id": "x5tG8JTOtLRz",
        "outputId": "9e04b466-1c64-4e5b-9290-dc792c330227"
      },
      "source": [
        "%%R\n",
        "# (3p) Choose the optimal level of tree complexity, based on CP parameter table produced by rpart. \n",
        "#Cut the tree to the optimal size. Explain how to pick the optimal CP level.\n",
        "rpart$cptable\n",
        "\n",
        "cp_optimal = rpart$cptable[which(rpart$cptable[,\"xerror\"]==min(rpart$cptable[,\"xerror\"])),\"CP\"]\n",
        "\n",
        "rpart_optimal = rpart(as.factor(Classification)~., \n",
        "                         data= train_data2,\n",
        "                         cp=cp_optimal)\n",
        "# (2p) Draw a pruned decision tree from previous point (with rules).\n",
        "rpart.plot(rpart_optimal)"
      ],
      "execution_count": 202,
      "outputs": [
        {
          "output_type": "display_data",
          "data": {
            "image/png": "[encoded data removed]"
          },
          "metadata": {
            "tags": []
          }
        }
      ]
    },
    {
      "cell_type": "code",
      "metadata": {
        "colab": {
          "base_uri": "https://localhost:8080/"
        },
        "id": "D_fb6t-8uHF9",
        "outputId": "33d7f159-b7ce-4852-fd6a-c8f372a66411"
      },
      "source": [
        "%%R\n",
        "# (2p) Write one example of decision rule generated by a tree (if ... and ... then we predict than patient is ...)\n",
        "\n",
        "if (!(data2$Resistin < 20)){\n",
        "    data2$Classification == 1}\n",
        "\n",
        "# (2p) Prepare the confusion matrix for the test set, assuming a cutoff threshold of 0.40\n",
        "preds <- predict(rpart_optimal, test_data2)\n",
        "preds <- preds[, 2]\n",
        "preds <- ifelse(preds > 0.4, 1, 0) #define a cut off point here\n",
        "print(preds)\n",
        "class_table = table(predictions, round(test_data2$Classification))\n",
        "class_table"
      ],
      "execution_count": 206,
      "outputs": [
        {
          "output_type": "stream",
          "text": [
            "  3   4   7   9  21  23  26  27  29  31  33  36  41  56  78  82  86  88  95  96 \n",
            "  0   0   0   1   0   1   0   1   1   1   1   0   0   0   1   1   1   1   1   1 \n",
            "102 109 112 116 \n",
            "  0   1   0   1 \n",
            "           \n",
            "predictions 0 1\n",
            "          0 7 3\n",
            "          1 6 8\n"
          ],
          "name": "stdout"
        }
      ]
    },
    {
      "cell_type": "code",
      "metadata": {
        "colab": {
          "base_uri": "https://localhost:8080/"
        },
        "id": "lupxV67cu8KM",
        "outputId": "3603b1f4-b997-4581-b8bd-6d63e1da2454"
      },
      "source": [
        "%%R\n",
        "# (3p) Based on the confusion matrix created calculate accuracy, recall and precision. Verify the quality of the tree (subjectively).\n",
        "# ACC = (TP + TN)/(TP + FP + TN + FN)\n",
        "acc = (class_table[1,1]+class_table[2,2])/sum(class_table)\n",
        "print(acc)\n",
        "\n",
        "# REC = TP / (TP + FN)\n",
        "rec = class_table[2, 2] / sum(class_table[2, ])\n",
        "print(rec)\n",
        "\n",
        "#PRECISION\n",
        "prec = class_table[2,2]/sum(class_table[,2])\n",
        "print(prec)\n",
        "\n",
        "#When it comes to the subjective opinion of the tree quality, this is interesting case I think. Both Accuracy and Precision are not so high (around .66) but recall is high.\n",
        "#Due to this fact, I think it's hard to say in one word if tree is good or bad or superb. It looks like we are in a case when our model is not good in describing the reality, because \n",
        "# even if we are able to correctly identify most of positive class, but precision is low so when we take into account both (All) classes we are not scoring that good.\n",
        "#therefore Accuracy can be very misleading for inbalanced datasets. We have high recall so most of the observations are \"available\" to be cartched/ seen for our model and we can catch them, but due to low precision our model is not having many observations available for him to be catched with high recall."
      ],
      "execution_count": 53,
      "outputs": [
        {
          "output_type": "stream",
          "text": [
            "[1] 0.6666667\n",
            "[1] 0.9230769\n",
            "[1] 0.6315789\n"
          ],
          "name": "stdout"
        }
      ]
    },
    {
      "cell_type": "code",
      "metadata": {
        "colab": {
          "base_uri": "https://localhost:8080/",
          "height": 496
        },
        "id": "cbzRKBaMwldJ",
        "outputId": "28af6b22-03a7-4c0c-c8d6-98cbf495a8f8"
      },
      "source": [
        "%%R\n",
        "# (2p) Draw a ROC curve for the prediction on the test set\n",
        "# Graphical measures of fit\n",
        "library(ROCR)\n",
        "score.or.class = gain = lift = roc = auc = prediction.object = list()\n",
        "score.or.class[[1]] = list(test_data2$Classification, test_data2$Classification)\n",
        "score.or.class[[2]] = list(predict(rpart_optimal),\n",
        "                           train_data2$Classification)\n",
        "score.or.class[[3]] = list(predict(rpart_optimal, new = test_data2),\n",
        "                           test_data2$Classification)\n",
        "class.average = mean(test_data2$Classification)\n",
        "random.class = 1\n",
        "for (i in 1:(nrow(test_data2) - 1)) {\n",
        "    random.class = c(random.class, mean(random.class) < class.average)\n",
        "}\n",
        "score.or.class[[4]] = list(seq(0, 1, len = nrow(test_data2)), random.class)\n",
        "\n",
        "for (i in 1:length(score.or.class)) {\n",
        "    prediction.object[[i]] = prediction(score.or.class[[i]][[2]],\n",
        "                                        score.or.class[[i]][[2]])\n",
        "    gain[[i]] = performance(prediction.object[[i]], \"tpr\", \"rpp\")\n",
        "    lift[[i]] = performance(prediction.object[[i]], \"lift\", \"rpp\")\n",
        "    roc[[i]] = performance(prediction.object[[i]], \"tpr\", \"fpr\")\n",
        "    auc[[i]] = performance(prediction.object[[i]], \"auc\")\n",
        "}\n",
        "\n",
        "LEGEND_LABELS = c(\"wizard\", \"training\", \"test\", \"random\")\n",
        "#Creating plots\n",
        "ShowCurve = function(list, name, AUC = FALSE, legend.position = \"right\") {\n",
        "    for (i in 1:length(list)) {\n",
        "        plot(list[[i]], main = paste(name, \" curve\"),\n",
        "             col = gray((i - 1) / 4), lwd = 2, add = (i != 1), xlim = c(0, 1))\n",
        "        if (AUC) {\n",
        "            text(.2, 0.9 - i * 0.1, pos = 4, col = gray((i - 1) / 4), cex = .9,\n",
        "                 paste(\"AUC =\", round(auc[[i]]@y.values[[1]], digit = 2)))\n",
        "        }\n",
        "    }\n",
        "    legend(legend.position, lty = 2, lwd = 2, col = gray(0:3 / 4),\n",
        "           y.intersp = .6, legend = LEGEND_LABELS, seg.len = 0.6, bty = \"n\")\n",
        "}\n",
        "\n",
        "ShowCurve(roc, \"ROC\", AUC = TRUE)"
      ],
      "execution_count": 72,
      "outputs": [
        {
          "output_type": "display_data",
          "data": {
            "image/png": "[encoded data removed]"
          },
          "metadata": {
            "tags": []
          }
        }
      ]
    },
    {
      "cell_type": "code",
      "metadata": {
        "colab": {
          "base_uri": "https://localhost:8080/"
        },
        "id": "nD9ouc-ZzaUY",
        "outputId": "c062c925-c9f8-4cd3-a0fd-47ce258c1783"
      },
      "source": [
        "%%R\n",
        "# (2p) Calculate AUC for training and test set. Is the model overfitted? Why/Why not? (comment)\n",
        "print(auc_roc(predictions, train_data2$Classification))\n",
        "print(auc_roc(predictions, test_data2$Classification))\n",
        "#Our testing accuracy is greater than our training, so our model ir rather underfitted than overfitted. \n",
        "#Basically, our model probaly has more information than it could learn from the data without 'memorizing' the data.\n"
      ],
      "execution_count": 85,
      "outputs": [
        {
          "output_type": "stream",
          "text": [
            "[1] 0.4978643\n",
            "[1] 0.5777778\n"
          ],
          "name": "stdout"
        }
      ]
    },
    {
      "cell_type": "code",
      "metadata": {
        "colab": {
          "base_uri": "https://localhost:8080/"
        },
        "id": "YiakX3mV0msG",
        "outputId": "9d4ae98d-d67c-43b5-a82e-872a8fef1093"
      },
      "source": [
        "# Task3(14p)\n",
        "%%R\n",
        "# In the task, use the data from 'https://archive.ics.uci.edu/ml/machine-learning-databases/wine-quality/winequality-white.csv'\n",
        "# The quality of white wines is contained in a variable quality.\n",
        "# The data is separated by a semicolon and has headers. You can load the data using:\n",
        "data3 = read.table('https://archive.ics.uci.edu/ml/machine-learning-databases/wine-quality/winequality-white.csv', stringsAsFactors = F, sep =';', header = T)\n",
        "\n",
        "# (1p) Check if any data is missing. If so, remove missing data from the dataset.\n",
        "data3[data3 == \"?\"] <- NA\n",
        "print(sum(is.na(data3)))\n",
        "print(sum(apply(data3, 1, anyNA)))\n",
        "sum(is.na(data3))\n",
        "#nomissings at all here again"
      ],
      "execution_count": 90,
      "outputs": [
        {
          "output_type": "stream",
          "text": [
            "[1] 0\n",
            "[1] 0\n",
            "[1] 0\n"
          ],
          "name": "stdout"
        }
      ]
    },
    {
      "cell_type": "code",
      "metadata": {
        "colab": {
          "base_uri": "https://localhost:8080/",
          "height": 496
        },
        "id": "18wKHI2806uo",
        "outputId": "4d0c30e4-41d7-41ce-aa6d-9b75dd26560d"
      },
      "source": [
        "%%R\n",
        "# (2p) Prepare the histogram and density estimation curve (on the same plot) of the variable free.sulfur.dioxide.\n",
        "ggplot(data3, aes(x=free.sulfur.dioxide)) + geom_histogram() # Histogram"
      ],
      "execution_count": 91,
      "outputs": [
        {
          "output_type": "display_data",
          "data": {
            "image/png": "[encoded data removed]"
          },
          "metadata": {
            "tags": []
          }
        }
      ]
    },
    {
      "cell_type": "code",
      "metadata": {
        "colab": {
          "base_uri": "https://localhost:8080/",
          "height": 496
        },
        "id": "f25NnJUs1al6",
        "outputId": "73ee93bc-958c-43f7-b9c6-05da42a8c2d2"
      },
      "source": [
        "%%R\n",
        "#density estimation curve\n",
        "plot(density(data3$free.sulfur.dioxide))"
      ],
      "execution_count": 95,
      "outputs": [
        {
          "output_type": "display_data",
          "data": {
            "image/png": "[encoded data removed]"
          },
          "metadata": {
            "tags": []
          }
        }
      ]
    },
    {
      "cell_type": "code",
      "metadata": {
        "id": "LmLgAF_B16lC"
      },
      "source": [
        "%%R\n",
        "# (1p) Divide data into training (85%) and validation (15%) with seed equal to 32\n",
        "set.seed(32)\n",
        "indices = sample(1:nrow(data3),0.85*nrow(data3)) #random 85% of indexes values\n",
        "train_data3 = data3[indices,]\n",
        "test_data3 = data3[-indices,]\n",
        "#another way I tried because I struggled with some exercises later on, but the result of this splitting is the same\n",
        "rand = sample(1:nrow(data3),0.85*nrow(data3)) #random 85% of indexes values\n",
        "train_data3 = data3[rand,]\n",
        "test_data3 = data3[-rand,]"
      ],
      "execution_count": 125,
      "outputs": []
    },
    {
      "cell_type": "code",
      "metadata": {
        "colab": {
          "base_uri": "https://localhost:8080/",
          "height": 496
        },
        "id": "nbseOpXM2QES",
        "outputId": "72fa23b2-bd26-436c-8260-5485cbdf7940"
      },
      "source": [
        "%%R\n",
        "# (3p) Prepare a random forest model with library 'randomForest' using default parameter values, with wine quality as \n",
        "#target variable and all other variables as predictors. Which 2 explanatory variables explain the most of wine quality variance?\n",
        "model2_rf = randomForest(quality~., data=train_data3)\n",
        "\n",
        "varImpPlot(model2_rf)\n",
        "#Density and alcohol are the vars which describe (influence) the most wine quality variance. Alcohol is way more explaining than any others and density is close to other features on the following places 3,4,5.\n"
      ],
      "execution_count": 126,
      "outputs": [
        {
          "output_type": "display_data",
          "data": {
            "image/png": "[encoded data removed]"
          },
          "metadata": {
            "tags": []
          }
        }
      ]
    },
    {
      "cell_type": "code",
      "metadata": {
        "colab": {
          "base_uri": "https://localhost:8080/",
          "height": 496
        },
        "id": "pZmQ98-E2igI",
        "outputId": "b8277632-2878-421e-c874-1910a1d3dd47"
      },
      "source": [
        "%%R\n",
        "# (3p) Prepare the GAM model with the 'mgcv' package, with wine quality as target variable and all other variables as predictors.\n",
        "# Apply smoothing the spline only to 'volatile.acidity' variable\n",
        "\n",
        "model3_gam <-  gam(train_data3$quality ~ s(train_data3$volatile.acidity) + train_data3$sulphates \n",
        "          + train_data3$fixed.acidity + train_data3$chlorides \n",
        "          + train_data3$citric.acid + train_data3$residual.sugar \n",
        "          + train_data3$free.sulfur.dioxide + train_data3$total.sulfur.dioxide \n",
        "          + train_data3$density + train_data3$pH + train_data3$alcohol, \n",
        "          data = train_data3)\n",
        "\n",
        "#summary(model3_gam)\n",
        "plot(model3_gam)"
      ],
      "execution_count": 207,
      "outputs": [
        {
          "output_type": "display_data",
          "data": {
            "image/png": "[encoded data removed]"
          },
          "metadata": {
            "tags": []
          }
        }
      ]
    },
    {
      "cell_type": "code",
      "metadata": {
        "colab": {
          "base_uri": "https://localhost:8080/"
        },
        "id": "upDz8mXn3QWs",
        "outputId": "3ff94960-1816-47dc-b538-0c459a27f4d8"
      },
      "source": [
        "%%R\n",
        "# (2p) Prepare a linear regression model with an 'lm' package, with wine quality as target variable and all other variables as predictors.\n",
        "# Provide Multiple R-squared of the model.\n",
        "\n",
        "model4_lm <- lm(quality ~ ., data = train_data3)\n",
        "summary(model4_lm)$r.squared # Returning multiple R-squared from summary\n"
      ],
      "execution_count": 129,
      "outputs": [
        {
          "output_type": "stream",
          "text": [
            "[1] 0.2812058\n"
          ],
          "name": "stdout"
        }
      ]
    },
    {
      "cell_type": "code",
      "metadata": {
        "colab": {
          "base_uri": "https://localhost:8080/",
          "height": 496
        },
        "id": "_Ir7t9Vy4fiS",
        "outputId": "ac46a815-b696-4a86-a0eb-84dc5c8c903c"
      },
      "source": [
        "%%R\n",
        "# (2p) Compare the quality of 3 above models by measuring RMSE for each (on test set) and prepare barplot with those values. \n",
        "#Which model is the best in terms of RMSE?\n",
        "\n",
        "lm.prediction = predict(model4_lm, data = test_data3)\n",
        "gam.prediction = as.vector(predict(model3_gam,data = test_data3))\n",
        "rf.prediction = as.vector(predict(model2_rf,data = test_data3))\n",
        "\n",
        "lm_rmse = sqrt(1/nrow(test_data3) * sum((test_data3$quality - lm.prediction)^2))\n",
        "gam_rmse = sqrt(1/nrow(test_data3) * sum((test_data3$quality - gam.prediction)^2))\n",
        "rf_rmse = sqrt(1/nrow(test_data3) * sum((test_data3$quality - rf.prediction)^2))\n",
        "\n",
        "model_comparison <- data.frame(models=c(\"lm_rmse\", \"gam_rmse\", \"rf_rmse\"),\n",
        "                 rmse=c(lm_rmse, gam_rmse, rf_rmse))\n",
        "\n",
        "ggplot(data=model_comparison, aes(x=models, y=rmse)) +\n",
        "    geom_bar(stat=\"identity\")"
      ],
      "execution_count": 211,
      "outputs": [
        {
          "output_type": "display_data",
          "data": {
            "image/png": "[encoded data removed]"
          },
          "metadata": {
            "tags": []
          }
        }
      ]
    },
    {
      "cell_type": "code",
      "metadata": {
        "colab": {
          "base_uri": "https://localhost:8080/",
          "height": 496
        },
        "id": "BO5wSPlgGLym",
        "outputId": "f457ccde-8606-4bfb-d9c4-0c50028c79e2"
      },
      "source": [
        "%%R\n",
        "lm.RMSE<-rmse(test_data3$quality, lm.prediction)\n",
        "gam.RMSE<-rmse(test_data3$quality, gam.prediction)\n",
        "rf.RMSE <-rmse(test_data3$quality,rf.prediction)\n",
        "RMSE<- c(lm.RMSE,gam.RMSE,rf.RMSE)\n",
        "gam.RMSE\n",
        "rf.RMSE\n",
        "barplot(RMSE, main=\"RMSE\", names.arg=c(\"LM\", \"GAM\", \"RF\"))\n",
        "#Generally speaking the model are performing very very similarly, but in both plots Random Forest is the best! "
      ],
      "execution_count": 214,
      "outputs": [
        {
          "output_type": "display_data",
          "data": {
            "image/png": "[encoded data removed]"
          },
          "metadata": {
            "tags": []
          }
        }
      ]
    }
  ]
}